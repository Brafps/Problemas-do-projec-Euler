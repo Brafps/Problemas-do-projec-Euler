{
 "cells": [
  {
   "cell_type": "markdown",
   "metadata": {},
   "source": [
    "# Largest prime factor\n",
    "## Problem 3\n",
    "\n",
    "<p>The prime factors of 13195 are 5, 7, 13 and 29.</p>\n",
    "<p>What is the largest prime factor of the number 600851475143 ?</p>"
   ]
  },
  {
   "cell_type": "markdown",
   "metadata": {},
   "source": [
    "### A matemática\n",
    "\n"
   ]
  },
  {
   "cell_type": "markdown",
   "metadata": {},
   "source": [
    "### O plano de ataque\n",
    "\n"
   ]
  },
  {
   "cell_type": "code",
   "execution_count": 1,
   "metadata": {},
   "outputs": [
    {
     "name": "stdout",
     "output_type": "stream",
     "text": [
      "6857\n"
     ]
    }
   ],
   "source": [
    "numero = 600851475143\n",
    "\n",
    "# nessa parte do código, encontrei os divisores da variável número\n",
    "lista_de_divisores = []             \n",
    "for i in range(1,(numero + 1)//2):\n",
    "    resto = numero%i\n",
    "    if  resto == 0:\n",
    "        quociente = numero//i\n",
    "        lista_de_divisores.append(quociente)\n",
    "        lista_de_divisores.append(i)\n",
    "        if quociente <= i:\n",
    "            break\n",
    "\n",
    "# nessa parte do código, encontrei os divisores que são primos e peguei o maior.\n",
    "lista_de_primos = []\n",
    "n_de_divisores_de_i = 0\n",
    "for i in lista_de_divisores:\n",
    "    for x in lista_de_divisores:\n",
    "        if (i % x) == 0:\n",
    "            n_de_divisores_de_i = n_de_divisores_de_i + 1\n",
    "    if n_de_divisores_de_i == 2:\n",
    "        lista_de_primos.append(i)\n",
    "        n_de_divisores_de_i = 0\n",
    "    else:\n",
    "        n_de_divisores_de_i = 0\n",
    "print(max(lista_de_primos))"
   ]
  }
 ],
 "metadata": {
  "interpreter": {
   "hash": "ebb3145f740dd9ef8110163c552d187de652ea053147f4763c92525f410cbcc3"
  },
  "kernelspec": {
   "display_name": "Python 3.9.7 ('base')",
   "language": "python",
   "name": "python3"
  },
  "language_info": {
   "codemirror_mode": {
    "name": "ipython",
    "version": 3
   },
   "file_extension": ".py",
   "mimetype": "text/x-python",
   "name": "python",
   "nbconvert_exporter": "python",
   "pygments_lexer": "ipython3",
   "version": "3.9.7"
  },
  "orig_nbformat": 4
 },
 "nbformat": 4,
 "nbformat_minor": 2
}
