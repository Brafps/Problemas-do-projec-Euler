{
 "cells": [
  {
   "cell_type": "markdown",
   "metadata": {},
   "source": [
    "# Multiples of 3 or 5\n",
    "## Problem 1\n",
    "If we list all the natural numbers below 10 that are multiples of 3 or 5, we get 3, 5, 6 and 9. The sum of these multiples is 23.\n",
    "Find the sum of all the multiples of 3 or 5 below 1000."
   ]
  },
  {
   "cell_type": "markdown",
   "metadata": {},
   "source": [
    "### A matemática\n",
    "\n",
    "Antes de falar de múltiplos, vale relembrar sobre dois conjuntos numéricos o conjunto dos números naturais e o conjunto dos números inteiros.\n",
    "\n",
    "Naturais $=\\mathbb{N}=\\{0, 1, 2, 3, ...\\} $\n",
    "\n",
    "Inteiros $=\\mathbb{Z}=\\{0, 1, 2, 3, ...\\} $ \n",
    "\n",
    "Observe que os naturais são os inteiros positivos.\n",
    "\n",
    "Para programação não trabalhamos com operações sobre naturais, sim sobre os inteiros. Os naturais são usados apenas como indicadores de posição. Lembre que o Python não começa a dar posição pelo 1 e sim pelo 0.\n",
    "\n",
    "O conjunto dos múltiplos positivos de um número inteiro positivo n é \n",
    "\n",
    "$M_n=\\{x \\in \\mathbb{N}:x=n\\cdot k, k\\in \\mathbb{N}^*\\} $\n",
    "\n",
    "Logo o conjunto dos múltiplos de 3 é $M_3 = \\{3, 6, 9, 12, 15, 18, 21, 24, 27, 30, ...\\}$ e o conjunto dos múltiplos de 5 é $M_5=\\{5, 10, 15, 20, 25, 30, 35, 40, 45, 50, ...\\}$ observe que eles tem em comum o conjunto $M_{15}=\\{15, 30, 45, 60, ...\\}$\n",
    "\n",
    "Assim, quando juntamos os dois conjunto $M_3\\cup M_5=\\{3, 5, 6, 9, 10, 12, 15, 18, 20, 21, 24, 25, 27, 30, ...\\}$ temos que os elementos dentro dele ou estão no M3 ou no m5\n",
    "\n",
    "O problema aqui, é tomar cuidado para não somar os elementos do conjunto $M_{15}$ mais de uma vez. Para isso basta usar a definição da união quando for implementar no programa."
   ]
  },
  {
   "cell_type": "markdown",
   "metadata": {},
   "source": [
    "### O plano de ataque\n",
    "\n",
    "Vamos criar a variável `soma_i` e armazenar a soma de todos os valores do conjunto $M_3\\cup M_5$  dentro dele, ou seja, vamos tornar essa variável um acumulador. Lembrando que temos um limitador, esses valores tem que ser menores que 1000. \n",
    "\n",
    "Não esquecer que `soma_i` é um acumulador, logo seu valor inicial é 0."
   ]
  },
  {
   "cell_type": "code",
   "execution_count": 36,
   "metadata": {},
   "outputs": [],
   "source": [
    "soma_i = 0       "
   ]
  },
  {
   "cell_type": "code",
   "execution_count": 37,
   "metadata": {},
   "outputs": [],
   "source": [
    "# Agora, vamos definir o laço de repetição para os valores serem testados e encontrar os números que pertencem ao conjunto\n",
    "\n",
    "for i in range(1000):\n",
    "    if (i%3 == 0 or i%5 == 0): \n",
    "        soma_i = soma_i+i     "
   ]
  },
  {
   "cell_type": "code",
   "execution_count": 38,
   "metadata": {},
   "outputs": [
    {
     "name": "stdout",
     "output_type": "stream",
     "text": [
      "233168\n"
     ]
    }
   ],
   "source": [
    "# Por fim, retornamos o resultado\n",
    "\n",
    "print(soma_i)"
   ]
  }
 ],
 "metadata": {
  "interpreter": {
   "hash": "ebb3145f740dd9ef8110163c552d187de652ea053147f4763c92525f410cbcc3"
  },
  "kernelspec": {
   "display_name": "Python 3.9.7 ('base')",
   "language": "python",
   "name": "python3"
  },
  "language_info": {
   "codemirror_mode": {
    "name": "ipython",
    "version": 3
   },
   "file_extension": ".py",
   "mimetype": "text/x-python",
   "name": "python",
   "nbconvert_exporter": "python",
   "pygments_lexer": "ipython3",
   "version": "3.9.7"
  },
  "orig_nbformat": 4
 },
 "nbformat": 4,
 "nbformat_minor": 2
}
