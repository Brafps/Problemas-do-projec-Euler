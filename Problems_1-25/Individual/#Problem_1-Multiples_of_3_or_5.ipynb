{
 "cells": [
  {
   "cell_type": "markdown",
   "metadata": {},
   "source": [
    "# Multiples of 3 or 5\n",
    "## Problem 1\n",
    "If we list all the natural numbers below 10 that are multiples of 3 or 5, we get 3, 5, 6 and 9. The sum of these multiples is 23.\n",
    "Find the sum of all the multiples of 3 or 5 below 1000."
   ]
  },
  {
   "cell_type": "markdown",
   "metadata": {},
   "source": [
    "## A matemática\n",
    "\n",
    "Antes de falar de múltiplos, vale relembrar sobre dois conjuntos numéricos o conjunto dos números naturais e o conjunto dos números inteiros.\n",
    "\n",
    "Naturais = \n",
    "\n",
    "Inteiros = \n",
    "\n",
    "Basta observar que os naturais seriam os inteiros positivos.\n",
    "\n",
    "Para programação não trabalhamos com operações sobre naturais, sim sobre os inteiros. Os naturais são usados apenas como indicadores de posição. Lembre que o Python não começa a dar posição pelo 1 e sim pelo 0.\n",
    "\n",
    "O conjunto dos múltiplos positivos de um número inteiro positivo n é \n",
    "\n",
    "Shdahd\n",
    "\n",
    "Logo o conjunto dos múltiplos de 3 é e o conjunto dos múltiplos de 5 é observe que eles tem em comum o conjunto dos múltiplos de 15\n",
    "\n",
    "Assim, quando juntamos os dois conjunto (União) temos que os elementos dentro dele ou estão nos M3 ou no m5\n",
    "\n",
    "### O programa\n",
    "\n",
    "No programa vamos criar a variável `soma_i` e armazenar todos os valores do conjunto (união) dentro dele, ou seja, vamos tornar essa variável um acumulador, como nenhum valor foi colocado nela, seu valor inicial é 0.\n"
   ]
  },
  {
   "cell_type": "code",
   "execution_count": 1,
   "metadata": {},
   "outputs": [
    {
     "name": "stdout",
     "output_type": "stream",
     "text": [
      "233168\n"
     ]
    }
   ],
   "source": [
    "soma_i = 0                       "
   ]
  },
  {
   "cell_type": "markdown",
   "metadata": {},
   "source": [
    "Agora, vamos definir o laço de repetição para os valores serem testados e encontrar os números que pertencem ao conjunto"
   ]
  },
  {
   "cell_type": "code",
   "execution_count": null,
   "metadata": {},
   "outputs": [],
   "source": [
    "for i in range(1000):\n",
    "    if (i%3 == 0 or i%5 == 0): \n",
    "        soma = soma+i    "
   ]
  },
  {
   "cell_type": "code",
   "execution_count": null,
   "metadata": {},
   "outputs": [],
   "source": [
    "# Por fim, retornamos o resultado\n",
    "\n",
    "print(soma)"
   ]
  }
 ],
 "metadata": {
  "interpreter": {
   "hash": "ebb3145f740dd9ef8110163c552d187de652ea053147f4763c92525f410cbcc3"
  },
  "kernelspec": {
   "display_name": "Python 3.9.7 ('base')",
   "language": "python",
   "name": "python3"
  },
  "language_info": {
   "codemirror_mode": {
    "name": "ipython",
    "version": 3
   },
   "file_extension": ".py",
   "mimetype": "text/x-python",
   "name": "python",
   "nbconvert_exporter": "python",
   "pygments_lexer": "ipython3",
   "version": "3.9.7"
  },
  "orig_nbformat": 4
 },
 "nbformat": 4,
 "nbformat_minor": 2
}
